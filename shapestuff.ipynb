{
 "cells": [
  {
   "cell_type": "code",
   "execution_count": 3,
   "metadata": {},
   "outputs": [],
   "source": [
    "import shapefile\n",
    "import pandas as pd\n",
    "import numpy as np\n",
    "from place_tree import PlaceInfo\n",
    "from search_tree import LatLngSearchTree\n",
    "file_list = \"place_files.txt\"\n",
    "files = open(file_list, 'r')\n",
    "r = [\"./POIData/\"+line.replace(\"\\n\",\"\") for line in files]"
   ]
  },
  {
   "cell_type": "code",
   "execution_count": 4,
   "metadata": {},
   "outputs": [
    {
     "name": "stdout",
     "output_type": "stream",
     "text": [
      "CPU times: user 47.5 s, sys: 1.62 s, total: 49.2 s\n",
      "Wall time: 49.7 s\n"
     ]
    }
   ],
   "source": [
    "%%time\n",
    "big = PlaceInfo(r)"
   ]
  },
  {
   "cell_type": "code",
   "execution_count": 5,
   "metadata": {},
   "outputs": [],
   "source": [
    "df = big.return_db_information()"
   ]
  },
  {
   "cell_type": "code",
   "execution_count": 6,
   "metadata": {},
   "outputs": [
    {
     "data": {
      "text/html": [
       "<div>\n",
       "<style scoped>\n",
       "    .dataframe tbody tr th:only-of-type {\n",
       "        vertical-align: middle;\n",
       "    }\n",
       "\n",
       "    .dataframe tbody tr th {\n",
       "        vertical-align: top;\n",
       "    }\n",
       "\n",
       "    .dataframe thead th {\n",
       "        text-align: right;\n",
       "    }\n",
       "</style>\n",
       "<table border=\"1\" class=\"dataframe\">\n",
       "  <thead>\n",
       "    <tr style=\"text-align: right;\">\n",
       "      <th></th>\n",
       "      <th>NELat</th>\n",
       "      <th>NELng</th>\n",
       "      <th>SWLat</th>\n",
       "      <th>SWLng</th>\n",
       "      <th>land_area</th>\n",
       "      <th>name</th>\n",
       "      <th>population</th>\n",
       "      <th>total_area</th>\n",
       "    </tr>\n",
       "  </thead>\n",
       "  <tbody>\n",
       "    <tr>\n",
       "      <th>0</th>\n",
       "      <td>32.983407</td>\n",
       "      <td>-87.148660</td>\n",
       "      <td>32.908008</td>\n",
       "      <td>-87.204744</td>\n",
       "      <td>22739426</td>\n",
       "      <td>Brent</td>\n",
       "      <td>4772</td>\n",
       "      <td>22817337</td>\n",
       "    </tr>\n",
       "    <tr>\n",
       "      <th>1</th>\n",
       "      <td>31.087048</td>\n",
       "      <td>-85.839719</td>\n",
       "      <td>31.001983</td>\n",
       "      <td>-85.917436</td>\n",
       "      <td>41109632</td>\n",
       "      <td>Geneva</td>\n",
       "      <td>4335</td>\n",
       "      <td>41597082</td>\n",
       "    </tr>\n",
       "    <tr>\n",
       "      <th>2</th>\n",
       "      <td>32.537983</td>\n",
       "      <td>-86.307299</td>\n",
       "      <td>32.467912</td>\n",
       "      <td>-86.356325</td>\n",
       "      <td>17855610</td>\n",
       "      <td>Coosada</td>\n",
       "      <td>1301</td>\n",
       "      <td>18476132</td>\n",
       "    </tr>\n",
       "    <tr>\n",
       "      <th>3</th>\n",
       "      <td>32.583532</td>\n",
       "      <td>-86.301588</td>\n",
       "      <td>32.518543</td>\n",
       "      <td>-86.382203</td>\n",
       "      <td>16249684</td>\n",
       "      <td>Elmore</td>\n",
       "      <td>1441</td>\n",
       "      <td>16611947</td>\n",
       "    </tr>\n",
       "    <tr>\n",
       "      <th>4</th>\n",
       "      <td>32.595000</td>\n",
       "      <td>-86.152776</td>\n",
       "      <td>32.454971</td>\n",
       "      <td>-86.258916</td>\n",
       "      <td>28320364</td>\n",
       "      <td>Wetumpka</td>\n",
       "      <td>8278</td>\n",
       "      <td>29456396</td>\n",
       "    </tr>\n",
       "  </tbody>\n",
       "</table>\n",
       "</div>"
      ],
      "text/plain": [
       "       NELat      NELng      SWLat      SWLng  land_area      name  \\\n",
       "0  32.983407 -87.148660  32.908008 -87.204744   22739426     Brent   \n",
       "1  31.087048 -85.839719  31.001983 -85.917436   41109632    Geneva   \n",
       "2  32.537983 -86.307299  32.467912 -86.356325   17855610   Coosada   \n",
       "3  32.583532 -86.301588  32.518543 -86.382203   16249684    Elmore   \n",
       "4  32.595000 -86.152776  32.454971 -86.258916   28320364  Wetumpka   \n",
       "\n",
       "   population  total_area  \n",
       "0        4772    22817337  \n",
       "1        4335    41597082  \n",
       "2        1301    18476132  \n",
       "3        1441    16611947  \n",
       "4        8278    29456396  "
      ]
     },
     "execution_count": 6,
     "metadata": {},
     "output_type": "execute_result"
    }
   ],
   "source": [
    "df.head()"
   ]
  },
  {
   "cell_type": "code",
   "execution_count": 4,
   "metadata": {},
   "outputs": [
    {
     "data": {
      "text/html": [
       "<div>\n",
       "<style scoped>\n",
       "    .dataframe tbody tr th:only-of-type {\n",
       "        vertical-align: middle;\n",
       "    }\n",
       "\n",
       "    .dataframe tbody tr th {\n",
       "        vertical-align: top;\n",
       "    }\n",
       "\n",
       "    .dataframe thead th {\n",
       "        text-align: right;\n",
       "    }\n",
       "</style>\n",
       "<table border=\"1\" class=\"dataframe\">\n",
       "  <thead>\n",
       "    <tr style=\"text-align: right;\">\n",
       "      <th></th>\n",
       "      <th>NELat</th>\n",
       "      <th>NELng</th>\n",
       "      <th>SWLat</th>\n",
       "      <th>SWLng</th>\n",
       "      <th>land_area</th>\n",
       "      <th>name</th>\n",
       "      <th>population</th>\n",
       "      <th>total_area</th>\n",
       "    </tr>\n",
       "  </thead>\n",
       "  <tbody>\n",
       "    <tr>\n",
       "      <th>19466</th>\n",
       "      <td>41.335804</td>\n",
       "      <td>-105.528204</td>\n",
       "      <td>41.277332</td>\n",
       "      <td>-105.697156</td>\n",
       "      <td>47485330</td>\n",
       "      <td>Laramie</td>\n",
       "      <td>32473</td>\n",
       "      <td>47544848</td>\n",
       "    </tr>\n",
       "  </tbody>\n",
       "</table>\n",
       "</div>"
      ],
      "text/plain": [
       "           NELat       NELng      SWLat       SWLng  land_area     name  \\\n",
       "19466  41.335804 -105.528204  41.277332 -105.697156   47485330  Laramie   \n",
       "\n",
       "       population  total_area  \n",
       "19466       32473    47544848  "
      ]
     },
     "execution_count": 4,
     "metadata": {},
     "output_type": "execute_result"
    }
   ],
   "source": [
    "df[df.name == \"Laramie\"]"
   ]
  },
  {
   "cell_type": "code",
   "execution_count": 10,
   "metadata": {},
   "outputs": [],
   "source": [
    "df2 = df.drop([\"land_area\", \"population\", \"total_area\"], axis = 1)"
   ]
  },
  {
   "cell_type": "code",
   "execution_count": 12,
   "metadata": {},
   "outputs": [],
   "source": [
    "df2.to_csv(\"speed_test.csv\")"
   ]
  },
  {
   "cell_type": "code",
   "execution_count": null,
   "metadata": {},
   "outputs": [],
   "source": [
    "df2"
   ]
  },
  {
   "cell_type": "code",
   "execution_count": 1,
   "metadata": {},
   "outputs": [
    {
     "ename": "NameError",
     "evalue": "name 'df2' is not defined",
     "output_type": "error",
     "traceback": [
      "\u001b[0;31m---------------------------------------------------------------------------\u001b[0m",
      "\u001b[0;31mNameError\u001b[0m                                 Traceback (most recent call last)",
      "\u001b[0;32m<ipython-input-1-e2571d1d392f>\u001b[0m in \u001b[0;36m<module>\u001b[0;34m\u001b[0m\n\u001b[0;32m----> 1\u001b[0;31m \u001b[0mdf2\u001b[0m\u001b[0;34m.\u001b[0m\u001b[0mhead\u001b[0m\u001b[0;34m(\u001b[0m\u001b[0;36m100\u001b[0m\u001b[0;34m)\u001b[0m\u001b[0;34m\u001b[0m\u001b[0;34m\u001b[0m\u001b[0m\n\u001b[0m",
      "\u001b[0;31mNameError\u001b[0m: name 'df2' is not defined"
     ]
    }
   ],
   "source": [
    "df2.head(100)"
   ]
  },
  {
   "cell_type": "code",
   "execution_count": 8,
   "metadata": {},
   "outputs": [
    {
     "data": {
      "text/plain": [
       "(19493, 8)"
      ]
     },
     "execution_count": 8,
     "metadata": {},
     "output_type": "execute_result"
    }
   ],
   "source": [
    "df.shape"
   ]
  },
  {
   "cell_type": "code",
   "execution_count": 5,
   "metadata": {},
   "outputs": [
    {
     "name": "stdout",
     "output_type": "stream",
     "text": [
      "right 39.731288\n",
      "left 42.100744\n",
      "right 40.807547\n",
      "left 41.380744\n",
      "right 41.06736\n",
      "right 41.218551999999995\n",
      "right 41.301303\n",
      "left 41.340922\n",
      "right 41.322950999999996\n",
      "right 41.333853\n",
      "left 41.337764\n",
      "left 41.336059999999996\n",
      "right 41.33565\n",
      "left 41.335967\n",
      "Wall time: 2min 24s\n"
     ]
    }
   ],
   "source": [
    "%%time\n",
    "stBig = LatLngSearchTree(['NELat','NELng', 'SWLat','SWLng'])\n",
    "stBig.fit_tree(big.return_db_information())"
   ]
  },
  {
   "cell_type": "code",
   "execution_count": 6,
   "metadata": {
    "scrolled": false
   },
   "outputs": [
    {
     "name": "stdout",
     "output_type": "stream",
     "text": [
      "39.731288 NELat 0.0036179450072358903\n",
      "39.734905945007235 39.727670054992764\n",
      "right\n",
      "-----------\n",
      "42.100744 NELat 0.0036179450072358903\n",
      "42.104361945007234 42.09712605499276\n",
      "left\n",
      "-------------\n",
      "40.807547 NELat 0.0036179450072358903\n",
      "40.811164945007235 40.803929054992764\n",
      "right\n",
      "-----------\n",
      "41.380744 NELat 0.0036179450072358903\n",
      "41.384361945007235 41.377126054992765\n",
      "left\n",
      "-------------\n",
      "41.06736 NELat 0.0036179450072358903\n",
      "41.070977945007236 41.063742054992765\n",
      "right\n",
      "-----------\n",
      "41.218551999999995 NELat 0.0036179450072358903\n",
      "41.22216994500723 41.21493405499276\n",
      "right\n",
      "-----------\n",
      "41.301303 NELat 0.0036179450072358903\n",
      "41.30492094500723 41.29768505499276\n",
      "both\n",
      "------------\n",
      "41.264309 NELat 0.0036179450072358903\n",
      "41.26792694500723 41.26069105499276\n",
      "right\n",
      "-----------\n",
      "41.285322 NELat 0.0036179450072358903\n",
      "41.288939945007236 41.281704054992765\n",
      "right\n",
      "-----------\n",
      "41.293828 NELat 0.0036179450072358903\n",
      "41.29744594500723 41.29021005499276\n",
      "right\n",
      "-----------\n",
      "41.297109 NELat 0.0036179450072358903\n",
      "41.300726945007234 41.293491054992764\n",
      "both\n",
      "------------\n",
      "41.295611 NELat 0.0036179450072358903\n",
      "41.299228945007236 41.291993054992766\n",
      "right\n",
      "-----------\n",
      "41.295840999999996 NELat 0.0036179450072358903\n",
      "41.29945894500723 41.29222305499276\n",
      "right\n",
      "-----------\n",
      "41.29904 NELat 0.0036179450072358903\n",
      "41.30265794500723 41.29542205499276\n",
      "both\n",
      "------------\n",
      "41.298288 NELat 0.0036179450072358903\n",
      "41.301905945007235 41.294670054992764\n",
      "both\n",
      "------------\n",
      "41.297340999999996 NELat 0.0036179450072358903\n",
      "41.30095894500723 41.29372305499276\n",
      "both\n",
      "------------\n",
      "41.299866 NELat 0.0036179450072358903\n",
      "41.30348394500724 41.296248054992766\n",
      "both\n",
      "------------\n",
      "41.300498999999995 NELat 0.0036179450072358903\n",
      "41.30411694500723 41.29688105499276\n",
      "both\n",
      "------------\n",
      "41.340922 NELat 0.0036179450072358903\n",
      "41.344539945007234 41.337304054992764\n",
      "left\n",
      "-------------\n",
      "41.322950999999996 NELat 0.0036179450072358903\n",
      "41.32656894500723 41.31933305499276\n",
      "left\n",
      "-------------\n",
      "41.309849 NELat 0.0036179450072358903\n",
      "41.313466945007235 41.306231054992764\n",
      "left\n",
      "-------------\n",
      "41.304296 NELat 0.0036179450072358903\n",
      "41.307913945007236 41.300678054992765\n",
      "left\n",
      "-------------\n",
      "41.302398 NELat 0.0036179450072358903\n",
      "41.30601594500723 41.29878005499276\n",
      "both\n",
      "------------\n",
      "41.301328 NELat 0.0036179450072358903\n",
      "41.30494594500723 41.29771005499276\n",
      "both\n",
      "------------\n",
      "41.303183 NELat 0.0036179450072358903\n",
      "41.30680094500723 41.29956505499276\n",
      "both\n",
      "------------\n",
      "41.304294999999996 NELat 0.0036179450072358903\n",
      "41.30791294500723 41.30067705499276\n",
      "left\n",
      "-------------\n"
     ]
    },
    {
     "data": {
      "text/plain": [
       "[           NELat      NELng      SWLat      SWLng  land_area      name  \\\n",
       " 4306   41.297109 -89.492316  41.288346 -89.519906    1179431  Tiskilwa   \n",
       " 15557  41.296732 -80.386890  41.270706 -80.443555    7797425     Clark   \n",
       " \n",
       "        population  total_area  \n",
       " 4306          772     1179431  \n",
       " 15557         600     9376670  ,\n",
       "           NELat      NELng      SWLat      SWLng  land_area    name  \\\n",
       " 5270  41.297341 -91.458068  41.291063 -91.477844     635743  Cotter   \n",
       " \n",
       "       population  total_area  \n",
       " 5270          47      635743  ,\n",
       "            NELat      NELng      SWLat      SWLng  land_area        name  \\\n",
       " 5755   41.298288 -94.546831  41.281644 -94.571387    2475331  Fontanelle   \n",
       " 10510  41.297968 -99.911544  41.284674 -99.931041    1806776    Callaway   \n",
       " \n",
       "        population  total_area  \n",
       " 5755          607     2475331  \n",
       " 10510         527     1806776  ,\n",
       "            NELat      NELng      SWLat      SWLng  land_area             name  \\\n",
       " 4291   41.298661 -89.354328  41.276839 -89.373985    3721577  Bureau Junction   \n",
       " 14904  41.299040 -75.775988  41.280811 -75.815412    3495651           Laflin   \n",
       " \n",
       "        population  total_area  \n",
       " 4291          307     3892743  \n",
       " 14904        1441     3495651  ,\n",
       "            NELat      NELng      SWLat      SWLng  land_area         name  \\\n",
       " 3829   41.299673 -88.294755  41.293950 -88.305199     476591  Carbon Hill   \n",
       " 10541  41.299866 -98.364214  41.288592 -98.373535     796837      Cushing   \n",
       " \n",
       "        population  total_area  \n",
       " 3829          337      476591  \n",
       " 10541          33      796837  ,\n",
       "            NELat      NELng      SWLat      SWLng  land_area     name  \\\n",
       " 10795  41.300499 -96.602510  41.294725 -96.610912     338541    Colon   \n",
       " 15255  41.299901 -75.885129  41.275530 -75.906292    1785787  Luzerne   \n",
       " \n",
       "        population  total_area  \n",
       " 10795         104      340916  \n",
       " 15255        2813     1785787  ,\n",
       "           NELat     NELng      SWLat      SWLng  land_area         name  \\\n",
       " 5791  41.301303 -95.90284  41.272428 -95.929651    4770951  Carter Lake   \n",
       " \n",
       "       population  total_area  \n",
       " 5791        3784     5225707  ,\n",
       "            NELat      NELng      SWLat      SWLng  land_area        name  \\\n",
       " 13192  41.301323 -84.539136  41.278033 -84.563155    4034671    Sherwood   \n",
       " 15582  41.301328 -75.849087  41.263581 -75.885129    3401002  Forty Fort   \n",
       " \n",
       "        population  total_area  \n",
       " 13192         810     4074687  \n",
       " 15582        4101     4077046  ,\n",
       "            NELat      NELng      SWLat      SWLng  land_area     name  \\\n",
       " 3343   41.302398 -90.281160  41.287525 -90.300377    2567043  Andover   \n",
       " 12844  41.301403 -82.001941  41.262987 -82.074862   12211557  Grafton   \n",
       " \n",
       "        population  total_area  \n",
       " 3343          573     2567043  \n",
       " 12844        5878    12287894  ,\n",
       "            NELat      NELng      SWLat      SWLng  land_area           name  \\\n",
       " 3813   41.303183 -88.242461  41.245672 -88.314271   14246112      Coal City   \n",
       " 13147  41.302487 -81.079310  41.269547 -81.108337    6577946  Garrettsville   \n",
       " \n",
       "        population  total_area  \n",
       " 3813         5368    14489943  \n",
       " 13147        2329     6618683  ,\n",
       "            NELat      NELng      SWLat      SWLng  land_area      name  \\\n",
       " 3660   41.304295 -89.779655  41.289171 -89.799250    2703568  Neponset   \n",
       " 13704  41.303938 -82.582203  41.272755 -82.612512    3068599     Milan   \n",
       " \n",
       "        population  total_area  \n",
       " 3660          441     2703568  \n",
       " 13704        1335     3118284  ]"
      ]
     },
     "execution_count": 6,
     "metadata": {},
     "output_type": "execute_result"
    }
   ],
   "source": [
    "stBig.search(41.3,-105.6, .25)"
   ]
  },
  {
   "cell_type": "code",
   "execution_count": 4,
   "metadata": {},
   "outputs": [
    {
     "name": "stdout",
     "output_type": "stream",
     "text": [
      "done\n"
     ]
    },
    {
     "ename": "KeyboardInterrupt",
     "evalue": "",
     "output_type": "error",
     "traceback": [
      "\u001b[1;31m---------------------------------------------------------------------------\u001b[0m",
      "\u001b[1;31mKeyboardInterrupt\u001b[0m                         Traceback (most recent call last)",
      "\u001b[1;32m<timed exec>\u001b[0m in \u001b[0;36m<module>\u001b[1;34m()\u001b[0m\n",
      "\u001b[1;32m~\\Documents\\Turing\\PythonPOIMunging\\place_tree.py\u001b[0m in \u001b[0;36m__init__\u001b[1;34m(self, file_paths, population_path)\u001b[0m\n\u001b[0;32m     14\u001b[0m                 \u001b[0mshape_records\u001b[0m\u001b[1;33m.\u001b[0m\u001b[0mextend\u001b[0m\u001b[1;33m(\u001b[0m\u001b[0msr_list\u001b[0m\u001b[1;33m)\u001b[0m\u001b[1;33m\u001b[0m\u001b[0m\n\u001b[0;32m     15\u001b[0m \u001b[1;33m\u001b[0m\u001b[0m\n\u001b[1;32m---> 16\u001b[1;33m         \u001b[0mself\u001b[0m\u001b[1;33m.\u001b[0m\u001b[0mshape_table\u001b[0m \u001b[1;33m=\u001b[0m \u001b[0mself\u001b[0m\u001b[1;33m.\u001b[0m\u001b[0m__build_shape_table__\u001b[0m\u001b[1;33m(\u001b[0m\u001b[0mshape_records\u001b[0m\u001b[1;33m)\u001b[0m\u001b[1;33m\u001b[0m\u001b[0m\n\u001b[0m\u001b[0;32m     17\u001b[0m \u001b[1;33m\u001b[0m\u001b[0m\n\u001b[0;32m     18\u001b[0m     \u001b[1;32mdef\u001b[0m \u001b[0m__find_population__\u001b[0m\u001b[1;33m(\u001b[0m\u001b[0mself\u001b[0m\u001b[1;33m,\u001b[0m \u001b[0mstate\u001b[0m\u001b[1;33m,\u001b[0m \u001b[0mplace\u001b[0m\u001b[1;33m,\u001b[0m \u001b[0mdata\u001b[0m \u001b[1;33m=\u001b[0m \u001b[1;32mNone\u001b[0m\u001b[1;33m)\u001b[0m\u001b[1;33m:\u001b[0m\u001b[1;33m\u001b[0m\u001b[0m\n",
      "\u001b[1;32m~\\Documents\\Turing\\PythonPOIMunging\\place_tree.py\u001b[0m in \u001b[0;36m__build_shape_table__\u001b[1;34m(self, shape_records)\u001b[0m\n\u001b[0;32m     56\u001b[0m             \u001b[0mto_add\u001b[0m \u001b[1;33m=\u001b[0m \u001b[1;33m{\u001b[0m\u001b[1;33m}\u001b[0m\u001b[1;33m\u001b[0m\u001b[0m\n\u001b[0;32m     57\u001b[0m             \u001b[0minfo\u001b[0m \u001b[1;33m=\u001b[0m \u001b[0mrecord\u001b[0m\u001b[1;33m.\u001b[0m\u001b[0mrecord\u001b[0m\u001b[1;33m\u001b[0m\u001b[0m\n\u001b[1;32m---> 58\u001b[1;33m             \u001b[0mpopulation\u001b[0m \u001b[1;33m=\u001b[0m \u001b[0mself\u001b[0m\u001b[1;33m.\u001b[0m\u001b[0m__find_population__\u001b[0m\u001b[1;33m(\u001b[0m\u001b[0mint\u001b[0m\u001b[1;33m(\u001b[0m\u001b[0minfo\u001b[0m\u001b[1;33m[\u001b[0m\u001b[1;36m0\u001b[0m\u001b[1;33m]\u001b[0m\u001b[1;33m)\u001b[0m\u001b[1;33m,\u001b[0m \u001b[0mint\u001b[0m\u001b[1;33m(\u001b[0m\u001b[0minfo\u001b[0m\u001b[1;33m[\u001b[0m\u001b[1;36m1\u001b[0m\u001b[1;33m]\u001b[0m\u001b[1;33m)\u001b[0m\u001b[1;33m)\u001b[0m\u001b[1;33m\u001b[0m\u001b[0m\n\u001b[0m\u001b[0;32m     59\u001b[0m             \u001b[1;32mif\u001b[0m \u001b[0mpopulation\u001b[0m \u001b[1;33m>\u001b[0m \u001b[1;36m0\u001b[0m\u001b[1;33m:\u001b[0m\u001b[1;33m\u001b[0m\u001b[0m\n\u001b[0;32m     60\u001b[0m                 \u001b[0mpoints\u001b[0m \u001b[1;33m=\u001b[0m \u001b[0mrecord\u001b[0m\u001b[1;33m.\u001b[0m\u001b[0mshape\u001b[0m\u001b[1;33m.\u001b[0m\u001b[0mpoints\u001b[0m\u001b[1;33m\u001b[0m\u001b[0m\n",
      "\u001b[1;32m~\\Documents\\Turing\\PythonPOIMunging\\place_tree.py\u001b[0m in \u001b[0;36m__find_population__\u001b[1;34m(self, state, place, data)\u001b[0m\n\u001b[0;32m     20\u001b[0m             \u001b[0mdata\u001b[0m \u001b[1;33m=\u001b[0m \u001b[0mself\u001b[0m\u001b[1;33m.\u001b[0m\u001b[0m_population_table\u001b[0m\u001b[1;33m\u001b[0m\u001b[0m\n\u001b[0;32m     21\u001b[0m \u001b[1;33m\u001b[0m\u001b[0m\n\u001b[1;32m---> 22\u001b[1;33m         \u001b[0mplaceRecords\u001b[0m \u001b[1;33m=\u001b[0m \u001b[0mdata\u001b[0m\u001b[1;33m[\u001b[0m\u001b[1;33m(\u001b[0m\u001b[0mdata\u001b[0m\u001b[1;33m.\u001b[0m\u001b[0mSTATE\u001b[0m \u001b[1;33m==\u001b[0m \u001b[0mstate\u001b[0m\u001b[1;33m)\u001b[0m \u001b[1;33m&\u001b[0m \u001b[1;33m(\u001b[0m\u001b[0mdata\u001b[0m\u001b[1;33m.\u001b[0m\u001b[0mPLACE\u001b[0m \u001b[1;33m==\u001b[0m \u001b[0mplace\u001b[0m\u001b[1;33m)\u001b[0m\u001b[1;33m]\u001b[0m\u001b[1;33m\u001b[0m\u001b[0m\n\u001b[0m\u001b[0;32m     23\u001b[0m         \u001b[1;32mif\u001b[0m \u001b[0mlen\u001b[0m\u001b[1;33m(\u001b[0m\u001b[0mplaceRecords\u001b[0m\u001b[1;33m)\u001b[0m \u001b[1;33m==\u001b[0m \u001b[1;36m1\u001b[0m\u001b[1;33m:\u001b[0m\u001b[1;33m\u001b[0m\u001b[0m\n\u001b[0;32m     24\u001b[0m             \u001b[1;32mreturn\u001b[0m \u001b[0mplaceRecords\u001b[0m\u001b[1;33m.\u001b[0m\u001b[0miloc\u001b[0m\u001b[1;33m[\u001b[0m\u001b[1;36m0\u001b[0m\u001b[1;33m,\u001b[0m \u001b[1;33m-\u001b[0m\u001b[1;36m1\u001b[0m\u001b[1;33m]\u001b[0m\u001b[1;33m\u001b[0m\u001b[0m\n",
      "\u001b[1;32m~\\Anaconda3\\lib\\site-packages\\pandas\\core\\ops.py\u001b[0m in \u001b[0;36mwrapper\u001b[1;34m(self, other)\u001b[0m\n\u001b[0;32m   1351\u001b[0m             unfilled = self._constructor(res_values,\n\u001b[0;32m   1352\u001b[0m                                          index=self.index, name=name)\n\u001b[1;32m-> 1353\u001b[1;33m             \u001b[1;32mreturn\u001b[0m \u001b[0mfiller\u001b[0m\u001b[1;33m(\u001b[0m\u001b[0munfilled\u001b[0m\u001b[1;33m)\u001b[0m\u001b[1;33m\u001b[0m\u001b[0m\n\u001b[0m\u001b[0;32m   1354\u001b[0m \u001b[1;33m\u001b[0m\u001b[0m\n\u001b[0;32m   1355\u001b[0m         \u001b[1;32melse\u001b[0m\u001b[1;33m:\u001b[0m\u001b[1;33m\u001b[0m\u001b[0m\n",
      "\u001b[1;32m~\\Anaconda3\\lib\\site-packages\\pandas\\core\\ops.py\u001b[0m in \u001b[0;36m<lambda>\u001b[1;34m(x)\u001b[0m\n\u001b[0;32m   1329\u001b[0m \u001b[1;33m\u001b[0m\u001b[0m\n\u001b[0;32m   1330\u001b[0m     \u001b[0mfill_int\u001b[0m \u001b[1;33m=\u001b[0m \u001b[1;32mlambda\u001b[0m \u001b[0mx\u001b[0m\u001b[1;33m:\u001b[0m \u001b[0mx\u001b[0m\u001b[1;33m.\u001b[0m\u001b[0mfillna\u001b[0m\u001b[1;33m(\u001b[0m\u001b[1;36m0\u001b[0m\u001b[1;33m)\u001b[0m\u001b[1;33m\u001b[0m\u001b[0m\n\u001b[1;32m-> 1331\u001b[1;33m     \u001b[0mfill_bool\u001b[0m \u001b[1;33m=\u001b[0m \u001b[1;32mlambda\u001b[0m \u001b[0mx\u001b[0m\u001b[1;33m:\u001b[0m \u001b[0mx\u001b[0m\u001b[1;33m.\u001b[0m\u001b[0mfillna\u001b[0m\u001b[1;33m(\u001b[0m\u001b[1;32mFalse\u001b[0m\u001b[1;33m)\u001b[0m\u001b[1;33m.\u001b[0m\u001b[0mastype\u001b[0m\u001b[1;33m(\u001b[0m\u001b[0mbool\u001b[0m\u001b[1;33m)\u001b[0m\u001b[1;33m\u001b[0m\u001b[0m\n\u001b[0m\u001b[0;32m   1332\u001b[0m \u001b[1;33m\u001b[0m\u001b[0m\n\u001b[0;32m   1333\u001b[0m     \u001b[1;32mdef\u001b[0m \u001b[0mwrapper\u001b[0m\u001b[1;33m(\u001b[0m\u001b[0mself\u001b[0m\u001b[1;33m,\u001b[0m \u001b[0mother\u001b[0m\u001b[1;33m)\u001b[0m\u001b[1;33m:\u001b[0m\u001b[1;33m\u001b[0m\u001b[0m\n",
      "\u001b[1;32m~\\Anaconda3\\lib\\site-packages\\pandas\\core\\series.py\u001b[0m in \u001b[0;36mfillna\u001b[1;34m(self, value, method, axis, inplace, limit, downcast, **kwargs)\u001b[0m\n\u001b[0;32m   3423\u001b[0m                                           \u001b[0maxis\u001b[0m\u001b[1;33m=\u001b[0m\u001b[0maxis\u001b[0m\u001b[1;33m,\u001b[0m \u001b[0minplace\u001b[0m\u001b[1;33m=\u001b[0m\u001b[0minplace\u001b[0m\u001b[1;33m,\u001b[0m\u001b[1;33m\u001b[0m\u001b[0m\n\u001b[0;32m   3424\u001b[0m                                           \u001b[0mlimit\u001b[0m\u001b[1;33m=\u001b[0m\u001b[0mlimit\u001b[0m\u001b[1;33m,\u001b[0m \u001b[0mdowncast\u001b[0m\u001b[1;33m=\u001b[0m\u001b[0mdowncast\u001b[0m\u001b[1;33m,\u001b[0m\u001b[1;33m\u001b[0m\u001b[0m\n\u001b[1;32m-> 3425\u001b[1;33m                                           **kwargs)\n\u001b[0m\u001b[0;32m   3426\u001b[0m \u001b[1;33m\u001b[0m\u001b[0m\n\u001b[0;32m   3427\u001b[0m     \u001b[1;33m@\u001b[0m\u001b[0mAppender\u001b[0m\u001b[1;33m(\u001b[0m\u001b[0mgeneric\u001b[0m\u001b[1;33m.\u001b[0m\u001b[0m_shared_docs\u001b[0m\u001b[1;33m[\u001b[0m\u001b[1;34m'replace'\u001b[0m\u001b[1;33m]\u001b[0m \u001b[1;33m%\u001b[0m \u001b[0m_shared_doc_kwargs\u001b[0m\u001b[1;33m)\u001b[0m\u001b[1;33m\u001b[0m\u001b[0m\n",
      "\u001b[1;32m~\\Anaconda3\\lib\\site-packages\\pandas\\core\\generic.py\u001b[0m in \u001b[0;36mfillna\u001b[1;34m(self, value, method, axis, inplace, limit, downcast)\u001b[0m\n\u001b[0;32m   5406\u001b[0m                 new_data = self._data.fillna(value=value, limit=limit,\n\u001b[0;32m   5407\u001b[0m                                              \u001b[0minplace\u001b[0m\u001b[1;33m=\u001b[0m\u001b[0minplace\u001b[0m\u001b[1;33m,\u001b[0m\u001b[1;33m\u001b[0m\u001b[0m\n\u001b[1;32m-> 5408\u001b[1;33m                                              downcast=downcast)\n\u001b[0m\u001b[0;32m   5409\u001b[0m \u001b[1;33m\u001b[0m\u001b[0m\n\u001b[0;32m   5410\u001b[0m             \u001b[1;32melif\u001b[0m \u001b[0misinstance\u001b[0m\u001b[1;33m(\u001b[0m\u001b[0mvalue\u001b[0m\u001b[1;33m,\u001b[0m \u001b[1;33m(\u001b[0m\u001b[0mdict\u001b[0m\u001b[1;33m,\u001b[0m \u001b[0mABCSeries\u001b[0m\u001b[1;33m)\u001b[0m\u001b[1;33m)\u001b[0m\u001b[1;33m:\u001b[0m\u001b[1;33m\u001b[0m\u001b[0m\n",
      "\u001b[1;32m~\\Anaconda3\\lib\\site-packages\\pandas\\core\\internals.py\u001b[0m in \u001b[0;36mfillna\u001b[1;34m(self, **kwargs)\u001b[0m\n\u001b[0;32m   3706\u001b[0m \u001b[1;33m\u001b[0m\u001b[0m\n\u001b[0;32m   3707\u001b[0m     \u001b[1;32mdef\u001b[0m \u001b[0mfillna\u001b[0m\u001b[1;33m(\u001b[0m\u001b[0mself\u001b[0m\u001b[1;33m,\u001b[0m \u001b[1;33m**\u001b[0m\u001b[0mkwargs\u001b[0m\u001b[1;33m)\u001b[0m\u001b[1;33m:\u001b[0m\u001b[1;33m\u001b[0m\u001b[0m\n\u001b[1;32m-> 3708\u001b[1;33m         \u001b[1;32mreturn\u001b[0m \u001b[0mself\u001b[0m\u001b[1;33m.\u001b[0m\u001b[0mapply\u001b[0m\u001b[1;33m(\u001b[0m\u001b[1;34m'fillna'\u001b[0m\u001b[1;33m,\u001b[0m \u001b[1;33m**\u001b[0m\u001b[0mkwargs\u001b[0m\u001b[1;33m)\u001b[0m\u001b[1;33m\u001b[0m\u001b[0m\n\u001b[0m\u001b[0;32m   3709\u001b[0m \u001b[1;33m\u001b[0m\u001b[0m\n\u001b[0;32m   3710\u001b[0m     \u001b[1;32mdef\u001b[0m \u001b[0mdowncast\u001b[0m\u001b[1;33m(\u001b[0m\u001b[0mself\u001b[0m\u001b[1;33m,\u001b[0m \u001b[1;33m**\u001b[0m\u001b[0mkwargs\u001b[0m\u001b[1;33m)\u001b[0m\u001b[1;33m:\u001b[0m\u001b[1;33m\u001b[0m\u001b[0m\n",
      "\u001b[1;32m~\\Anaconda3\\lib\\site-packages\\pandas\\core\\internals.py\u001b[0m in \u001b[0;36mapply\u001b[1;34m(self, f, axes, filter, do_integrity_check, consolidate, **kwargs)\u001b[0m\n\u001b[0;32m   3579\u001b[0m \u001b[1;33m\u001b[0m\u001b[0m\n\u001b[0;32m   3580\u001b[0m             \u001b[0mkwargs\u001b[0m\u001b[1;33m[\u001b[0m\u001b[1;34m'mgr'\u001b[0m\u001b[1;33m]\u001b[0m \u001b[1;33m=\u001b[0m \u001b[0mself\u001b[0m\u001b[1;33m\u001b[0m\u001b[0m\n\u001b[1;32m-> 3581\u001b[1;33m             \u001b[0mapplied\u001b[0m \u001b[1;33m=\u001b[0m \u001b[0mgetattr\u001b[0m\u001b[1;33m(\u001b[0m\u001b[0mb\u001b[0m\u001b[1;33m,\u001b[0m \u001b[0mf\u001b[0m\u001b[1;33m)\u001b[0m\u001b[1;33m(\u001b[0m\u001b[1;33m**\u001b[0m\u001b[0mkwargs\u001b[0m\u001b[1;33m)\u001b[0m\u001b[1;33m\u001b[0m\u001b[0m\n\u001b[0m\u001b[0;32m   3582\u001b[0m             \u001b[0mresult_blocks\u001b[0m \u001b[1;33m=\u001b[0m \u001b[0m_extend_blocks\u001b[0m\u001b[1;33m(\u001b[0m\u001b[0mapplied\u001b[0m\u001b[1;33m,\u001b[0m \u001b[0mresult_blocks\u001b[0m\u001b[1;33m)\u001b[0m\u001b[1;33m\u001b[0m\u001b[0m\n\u001b[0;32m   3583\u001b[0m \u001b[1;33m\u001b[0m\u001b[0m\n",
      "\u001b[1;32m~\\Anaconda3\\lib\\site-packages\\pandas\\core\\internals.py\u001b[0m in \u001b[0;36mfillna\u001b[1;34m(self, value, limit, inplace, downcast, mgr)\u001b[0m\n\u001b[0;32m    413\u001b[0m                 \u001b[1;32mreturn\u001b[0m \u001b[0mself\u001b[0m\u001b[1;33m\u001b[0m\u001b[0m\n\u001b[0;32m    414\u001b[0m             \u001b[1;32melse\u001b[0m\u001b[1;33m:\u001b[0m\u001b[1;33m\u001b[0m\u001b[0m\n\u001b[1;32m--> 415\u001b[1;33m                 \u001b[1;32mreturn\u001b[0m \u001b[0mself\u001b[0m\u001b[1;33m.\u001b[0m\u001b[0mcopy\u001b[0m\u001b[1;33m(\u001b[0m\u001b[1;33m)\u001b[0m\u001b[1;33m\u001b[0m\u001b[0m\n\u001b[0m\u001b[0;32m    416\u001b[0m \u001b[1;33m\u001b[0m\u001b[0m\n\u001b[0;32m    417\u001b[0m         \u001b[0mmask\u001b[0m \u001b[1;33m=\u001b[0m \u001b[0misna\u001b[0m\u001b[1;33m(\u001b[0m\u001b[0mself\u001b[0m\u001b[1;33m.\u001b[0m\u001b[0mvalues\u001b[0m\u001b[1;33m)\u001b[0m\u001b[1;33m\u001b[0m\u001b[0m\n",
      "\u001b[1;32m~\\Anaconda3\\lib\\site-packages\\pandas\\core\\internals.py\u001b[0m in \u001b[0;36mcopy\u001b[1;34m(self, deep, mgr)\u001b[0m\n\u001b[0;32m    776\u001b[0m         \u001b[0mvalues\u001b[0m \u001b[1;33m=\u001b[0m \u001b[0mself\u001b[0m\u001b[1;33m.\u001b[0m\u001b[0mvalues\u001b[0m\u001b[1;33m\u001b[0m\u001b[0m\n\u001b[0;32m    777\u001b[0m         \u001b[1;32mif\u001b[0m \u001b[0mdeep\u001b[0m\u001b[1;33m:\u001b[0m\u001b[1;33m\u001b[0m\u001b[0m\n\u001b[1;32m--> 778\u001b[1;33m             \u001b[0mvalues\u001b[0m \u001b[1;33m=\u001b[0m \u001b[0mvalues\u001b[0m\u001b[1;33m.\u001b[0m\u001b[0mcopy\u001b[0m\u001b[1;33m(\u001b[0m\u001b[1;33m)\u001b[0m\u001b[1;33m\u001b[0m\u001b[0m\n\u001b[0m\u001b[0;32m    779\u001b[0m         \u001b[1;32mreturn\u001b[0m \u001b[0mself\u001b[0m\u001b[1;33m.\u001b[0m\u001b[0mmake_block_same_class\u001b[0m\u001b[1;33m(\u001b[0m\u001b[0mvalues\u001b[0m\u001b[1;33m)\u001b[0m\u001b[1;33m\u001b[0m\u001b[0m\n\u001b[0;32m    780\u001b[0m \u001b[1;33m\u001b[0m\u001b[0m\n",
      "\u001b[1;31mKeyboardInterrupt\u001b[0m: "
     ]
    }
   ],
   "source": [
    "%%time\n",
    "df = pd.read_csv('subest2018_all.csv', encoding = \"ISO-8859-1\" )\n",
    "sf = shapefile.Reader(\"./POIData/tl_2018_08_place.shp\").shapeRecords()\n",
    "rec = sf[0]\n",
    "pts = np.array(rec.shape.points)\n",
    "\n",
    "file_list = \"place_files.txt\"\n",
    "files = open(file_list, 'r')\n",
    "r = [\"./POIData/\"+line.replace(\"\\n\",\"\") for line in files]\n",
    "t = PlaceInfo([\"./POIData/tl_2018_08_place.shp\",\"./POIData/tl_2018_56_place.shp\"])\n",
    "print(\"done\")\n",
    "big = PlaceInfo(r)\n",
    "# df2 = t.return_db_information()\n",
    "# st = LatLngSearchTree(['NELat','NELng', 'SWLat','SWLng'])\n",
    "\n",
    "# st.fit_tree(df2)\n",
    "# print(st.find_poi(41.3,-105.6, .25))\n",
    "print(\"Fiting\")\n",
    "stBig = LatLngSearchTree(['NELat','NELng', 'SWLat','SWLng'])\n",
    "stBig.fit_tree(big.return_db_information())\n",
    "\n",
    "print(stBig.find_poi(25.814, -80.131, .25))\n"
   ]
  },
  {
   "cell_type": "code",
   "execution_count": 4,
   "metadata": {},
   "outputs": [
    {
     "data": {
      "text/plain": [
       "[           NELat      NELng      SWLat      SWLng  land_area      name  \\\n",
       " 4306   41.297109 -89.492316  41.288346 -89.519906    1179431  Tiskilwa   \n",
       " 15557  41.296732 -80.386890  41.270706 -80.443555    7797425     Clark   \n",
       " \n",
       "        population  total_area  \n",
       " 4306          772     1179431  \n",
       " 15557         600     9376670  ,\n",
       "           NELat      NELng      SWLat      SWLng  land_area    name  \\\n",
       " 5270  41.297341 -91.458068  41.291063 -91.477844     635743  Cotter   \n",
       " \n",
       "       population  total_area  \n",
       " 5270          47      635743  ,\n",
       "            NELat      NELng      SWLat      SWLng  land_area        name  \\\n",
       " 5755   41.298288 -94.546831  41.281644 -94.571387    2475331  Fontanelle   \n",
       " 10510  41.297968 -99.911544  41.284674 -99.931041    1806776    Callaway   \n",
       " \n",
       "        population  total_area  \n",
       " 5755          607     2475331  \n",
       " 10510         527     1806776  ,\n",
       "            NELat      NELng      SWLat      SWLng  land_area             name  \\\n",
       " 4291   41.298661 -89.354328  41.276839 -89.373985    3721577  Bureau Junction   \n",
       " 14904  41.299040 -75.775988  41.280811 -75.815412    3495651           Laflin   \n",
       " \n",
       "        population  total_area  \n",
       " 4291          307     3892743  \n",
       " 14904        1441     3495651  ,\n",
       "            NELat      NELng      SWLat      SWLng  land_area         name  \\\n",
       " 3829   41.299673 -88.294755  41.293950 -88.305199     476591  Carbon Hill   \n",
       " 10541  41.299866 -98.364214  41.288592 -98.373535     796837      Cushing   \n",
       " \n",
       "        population  total_area  \n",
       " 3829          337      476591  \n",
       " 10541          33      796837  ,\n",
       "            NELat      NELng      SWLat      SWLng  land_area     name  \\\n",
       " 10795  41.300499 -96.602510  41.294725 -96.610912     338541    Colon   \n",
       " 15255  41.299901 -75.885129  41.275530 -75.906292    1785787  Luzerne   \n",
       " \n",
       "        population  total_area  \n",
       " 10795         104      340916  \n",
       " 15255        2813     1785787  ,\n",
       "           NELat     NELng      SWLat      SWLng  land_area         name  \\\n",
       " 5791  41.301303 -95.90284  41.272428 -95.929651    4770951  Carter Lake   \n",
       " \n",
       "       population  total_area  \n",
       " 5791        3784     5225707  ,\n",
       "            NELat      NELng      SWLat      SWLng  land_area        name  \\\n",
       " 13192  41.301323 -84.539136  41.278033 -84.563155    4034671    Sherwood   \n",
       " 15582  41.301328 -75.849087  41.263581 -75.885129    3401002  Forty Fort   \n",
       " \n",
       "        population  total_area  \n",
       " 13192         810     4074687  \n",
       " 15582        4101     4077046  ,\n",
       "            NELat      NELng      SWLat      SWLng  land_area     name  \\\n",
       " 3343   41.302398 -90.281160  41.287525 -90.300377    2567043  Andover   \n",
       " 12844  41.301403 -82.001941  41.262987 -82.074862   12211557  Grafton   \n",
       " \n",
       "        population  total_area  \n",
       " 3343          573     2567043  \n",
       " 12844        5878    12287894  ,\n",
       "            NELat      NELng      SWLat      SWLng  land_area           name  \\\n",
       " 3813   41.303183 -88.242461  41.245672 -88.314271   14246112      Coal City   \n",
       " 13147  41.302487 -81.079310  41.269547 -81.108337    6577946  Garrettsville   \n",
       " \n",
       "        population  total_area  \n",
       " 3813         5368    14489943  \n",
       " 13147        2329     6618683  ,\n",
       "            NELat      NELng      SWLat      SWLng  land_area      name  \\\n",
       " 3660   41.304295 -89.779655  41.289171 -89.799250    2703568  Neponset   \n",
       " 13704  41.303938 -82.582203  41.272755 -82.612512    3068599     Milan   \n",
       " \n",
       "        population  total_area  \n",
       " 3660          441     2703568  \n",
       " 13704        1335     3118284  ]"
      ]
     },
     "execution_count": 4,
     "metadata": {},
     "output_type": "execute_result"
    }
   ],
   "source": [
    "stBig.search(41.3,-105.6, .25)"
   ]
  },
  {
   "cell_type": "code",
   "execution_count": null,
   "metadata": {
    "collapsed": true
   },
   "outputs": [],
   "source": []
  },
  {
   "cell_type": "code",
   "execution_count": 24,
   "metadata": {
    "collapsed": true
   },
   "outputs": [],
   "source": [
    "st.find_poi(25.814, -80.131, .25)"
   ]
  },
  {
   "cell_type": "code",
   "execution_count": 26,
   "metadata": {
    "collapsed": true
   },
   "outputs": [],
   "source": [
    "stBig.find_poi(25.814, -80.131, .25)"
   ]
  },
  {
   "cell_type": "code",
   "execution_count": 11,
   "metadata": {},
   "outputs": [
    {
     "data": {
      "text/plain": [
       "['NELat', 31.311916999999998]"
      ]
     },
     "execution_count": 11,
     "metadata": {},
     "output_type": "execute_result"
    }
   ],
   "source": [
    "stBig.head.left_child.left_child.left_child"
   ]
  },
  {
   "cell_type": "code",
   "execution_count": 45,
   "metadata": {
    "collapsed": true
   },
   "outputs": [],
   "source": [
    "df = big.return_db_information()"
   ]
  },
  {
   "cell_type": "code",
   "execution_count": 50,
   "metadata": {},
   "outputs": [
    {
     "data": {
      "text/plain": [
       "(19493, 8)"
      ]
     },
     "execution_count": 50,
     "metadata": {},
     "output_type": "execute_result"
    }
   ],
   "source": [
    "df.shape"
   ]
  },
  {
   "cell_type": "code",
   "execution_count": 46,
   "metadata": {},
   "outputs": [
    {
     "data": {
      "text/html": [
       "<div>\n",
       "<style scoped>\n",
       "    .dataframe tbody tr th:only-of-type {\n",
       "        vertical-align: middle;\n",
       "    }\n",
       "\n",
       "    .dataframe tbody tr th {\n",
       "        vertical-align: top;\n",
       "    }\n",
       "\n",
       "    .dataframe thead th {\n",
       "        text-align: right;\n",
       "    }\n",
       "</style>\n",
       "<table border=\"1\" class=\"dataframe\">\n",
       "  <thead>\n",
       "    <tr style=\"text-align: right;\">\n",
       "      <th></th>\n",
       "      <th>NELat</th>\n",
       "      <th>NELng</th>\n",
       "      <th>SWLat</th>\n",
       "      <th>SWLng</th>\n",
       "      <th>land_area</th>\n",
       "      <th>name</th>\n",
       "      <th>population</th>\n",
       "      <th>total_area</th>\n",
       "    </tr>\n",
       "  </thead>\n",
       "  <tbody>\n",
       "    <tr>\n",
       "      <th>689</th>\n",
       "      <td>33.404608</td>\n",
       "      <td>-110.859712</td>\n",
       "      <td>33.381582</td>\n",
       "      <td>-110.891780</td>\n",
       "      <td>2270920</td>\n",
       "      <td>Miami</td>\n",
       "      <td>1774</td>\n",
       "      <td>2270920</td>\n",
       "    </tr>\n",
       "    <tr>\n",
       "      <th>2216</th>\n",
       "      <td>25.855786</td>\n",
       "      <td>-80.132179</td>\n",
       "      <td>25.709042</td>\n",
       "      <td>-80.318608</td>\n",
       "      <td>93228983</td>\n",
       "      <td>Miami</td>\n",
       "      <td>470914</td>\n",
       "      <td>145230071</td>\n",
       "    </tr>\n",
       "    <tr>\n",
       "      <th>10183</th>\n",
       "      <td>39.333916</td>\n",
       "      <td>-93.212804</td>\n",
       "      <td>39.307979</td>\n",
       "      <td>-93.235073</td>\n",
       "      <td>1446987</td>\n",
       "      <td>Miami</td>\n",
       "      <td>170</td>\n",
       "      <td>1632883</td>\n",
       "    </tr>\n",
       "    <tr>\n",
       "      <th>14009</th>\n",
       "      <td>36.929050</td>\n",
       "      <td>-94.833413</td>\n",
       "      <td>36.833570</td>\n",
       "      <td>-94.909520</td>\n",
       "      <td>28070710</td>\n",
       "      <td>Miami</td>\n",
       "      <td>13132</td>\n",
       "      <td>28289723</td>\n",
       "    </tr>\n",
       "    <tr>\n",
       "      <th>17044</th>\n",
       "      <td>35.701792</td>\n",
       "      <td>-100.629468</td>\n",
       "      <td>35.680110</td>\n",
       "      <td>-100.652786</td>\n",
       "      <td>3028642</td>\n",
       "      <td>Miami</td>\n",
       "      <td>580</td>\n",
       "      <td>3028642</td>\n",
       "    </tr>\n",
       "  </tbody>\n",
       "</table>\n",
       "</div>"
      ],
      "text/plain": [
       "           NELat       NELng      SWLat       SWLng  land_area   name  \\\n",
       "689    33.404608 -110.859712  33.381582 -110.891780    2270920  Miami   \n",
       "2216   25.855786  -80.132179  25.709042  -80.318608   93228983  Miami   \n",
       "10183  39.333916  -93.212804  39.307979  -93.235073    1446987  Miami   \n",
       "14009  36.929050  -94.833413  36.833570  -94.909520   28070710  Miami   \n",
       "17044  35.701792 -100.629468  35.680110 -100.652786    3028642  Miami   \n",
       "\n",
       "       population  total_area  \n",
       "689          1774     2270920  \n",
       "2216       470914   145230071  \n",
       "10183         170     1632883  \n",
       "14009       13132    28289723  \n",
       "17044         580     3028642  "
      ]
     },
     "execution_count": 46,
     "metadata": {},
     "output_type": "execute_result"
    }
   ],
   "source": [
    "df[df.name == \"Miami\"]"
   ]
  },
  {
   "cell_type": "code",
   "execution_count": 49,
   "metadata": {},
   "outputs": [
    {
     "data": {
      "text/html": [
       "<div>\n",
       "<style scoped>\n",
       "    .dataframe tbody tr th:only-of-type {\n",
       "        vertical-align: middle;\n",
       "    }\n",
       "\n",
       "    .dataframe tbody tr th {\n",
       "        vertical-align: top;\n",
       "    }\n",
       "\n",
       "    .dataframe thead th {\n",
       "        text-align: right;\n",
       "    }\n",
       "</style>\n",
       "<table border=\"1\" class=\"dataframe\">\n",
       "  <thead>\n",
       "    <tr style=\"text-align: right;\">\n",
       "      <th></th>\n",
       "      <th>NELat</th>\n",
       "      <th>NELng</th>\n",
       "      <th>SWLat</th>\n",
       "      <th>SWLng</th>\n",
       "      <th>land_area</th>\n",
       "      <th>name</th>\n",
       "      <th>population</th>\n",
       "      <th>total_area</th>\n",
       "    </tr>\n",
       "  </thead>\n",
       "  <tbody>\n",
       "    <tr>\n",
       "      <th>2254</th>\n",
       "      <td>25.811679</td>\n",
       "      <td>-80.289170</td>\n",
       "      <td>25.806419</td>\n",
       "      <td>-80.305295</td>\n",
       "      <td>760192</td>\n",
       "      <td>Virginia Gardens</td>\n",
       "      <td>2451</td>\n",
       "      <td>760192</td>\n",
       "    </tr>\n",
       "    <tr>\n",
       "      <th>2206</th>\n",
       "      <td>25.855255</td>\n",
       "      <td>-80.320857</td>\n",
       "      <td>25.782543</td>\n",
       "      <td>-80.387242</td>\n",
       "      <td>35787577</td>\n",
       "      <td>Doral</td>\n",
       "      <td>61824</td>\n",
       "      <td>39046176</td>\n",
       "    </tr>\n",
       "    <tr>\n",
       "      <th>2263</th>\n",
       "      <td>25.840061</td>\n",
       "      <td>-80.258790</td>\n",
       "      <td>25.802878</td>\n",
       "      <td>-80.306048</td>\n",
       "      <td>7455958</td>\n",
       "      <td>Miami Springs</td>\n",
       "      <td>14315</td>\n",
       "      <td>7729910</td>\n",
       "    </tr>\n",
       "  </tbody>\n",
       "</table>\n",
       "</div>"
      ],
      "text/plain": [
       "          NELat      NELng      SWLat      SWLng  land_area              name  \\\n",
       "2254  25.811679 -80.289170  25.806419 -80.305295     760192  Virginia Gardens   \n",
       "2206  25.855255 -80.320857  25.782543 -80.387242   35787577             Doral   \n",
       "2263  25.840061 -80.258790  25.802878 -80.306048    7455958     Miami Springs   \n",
       "\n",
       "      population  total_area  \n",
       "2254        2451      760192  \n",
       "2206       61824    39046176  \n",
       "2263       14315     7729910  "
      ]
     },
     "execution_count": 49,
     "metadata": {},
     "output_type": "execute_result"
    }
   ],
   "source": [
    "potentials = pd.concat(stBig.search(25.814, -80.131, .25))\n",
    "potentials"
   ]
  },
  {
   "cell_type": "code",
   "execution_count": 53,
   "metadata": {
    "collapsed": true
   },
   "outputs": [],
   "source": [
    "l1 = [1,*[2,3]]\n",
    "l2 = [2]\n",
    "l3 = [3]\n",
    "l4 = [4]\n",
    "l5 = [5]\n",
    "l6 = [6]"
   ]
  },
  {
   "cell_type": "code",
   "execution_count": 54,
   "metadata": {},
   "outputs": [
    {
     "data": {
      "text/plain": [
       "[1, 2, 3, 2]"
      ]
     },
     "execution_count": 54,
     "metadata": {},
     "output_type": "execute_result"
    }
   ],
   "source": [
    "[*l1, *l2]"
   ]
  },
  {
   "cell_type": "code",
   "execution_count": null,
   "metadata": {
    "collapsed": true
   },
   "outputs": [],
   "source": [
    "self.buffer_to_deg_lat(buffer)"
   ]
  },
  {
   "cell_type": "code",
   "execution_count": 18,
   "metadata": {},
   "outputs": [
    {
     "name": "stdout",
     "output_type": "stream",
     "text": [
      "Wall time: 2min 24s\n"
     ]
    }
   ],
   "source": [
    "%%time\n"
   ]
  },
  {
   "cell_type": "code",
   "execution_count": 23,
   "metadata": {
    "collapsed": true
   },
   "outputs": [],
   "source": [
    "st.find_poi(25.814, -80.131, .25)"
   ]
  },
  {
   "cell_type": "code",
   "execution_count": 22,
   "metadata": {},
   "outputs": [
    {
     "name": "stdout",
     "output_type": "stream",
     "text": [
      "6.29 ms ± 877 µs per loop (mean ± std. dev. of 7 runs, 100 loops each)\n"
     ]
    }
   ],
   "source": [
    "%%timeit\n",
    "st.find_poi(25.814, -80.131, .25)"
   ]
  },
  {
   "cell_type": "code",
   "execution_count": 19,
   "metadata": {},
   "outputs": [
    {
     "data": {
      "text/plain": [
       "['./POIData/tl_2018_01_place.shp',\n",
       " './POIData/tl_2018_02_place.shp',\n",
       " './POIData/tl_2018_04_place.shp',\n",
       " './POIData/tl_2018_05_place.shp',\n",
       " './POIData/tl_2018_06_place.shp',\n",
       " './POIData/tl_2018_08_place.shp',\n",
       " './POIData/tl_2018_09_place.shp',\n",
       " './POIData/tl_2018_10_place.shp',\n",
       " './POIData/tl_2018_11_place.shp',\n",
       " './POIData/tl_2018_12_place.shp',\n",
       " './POIData/tl_2018_13_place.shp',\n",
       " './POIData/tl_2018_15_place.shp',\n",
       " './POIData/tl_2018_16_place.shp',\n",
       " './POIData/tl_2018_17_place.shp',\n",
       " './POIData/tl_2018_18_place.shp',\n",
       " './POIData/tl_2018_19_place.shp',\n",
       " './POIData/tl_2018_20_place.shp',\n",
       " './POIData/tl_2018_21_place.shp',\n",
       " './POIData/tl_2018_22_place.shp',\n",
       " './POIData/tl_2018_23_place.shp',\n",
       " './POIData/tl_2018_24_place.shp',\n",
       " './POIData/tl_2018_25_place.shp',\n",
       " './POIData/tl_2018_26_place.shp',\n",
       " './POIData/tl_2018_27_place.shp',\n",
       " './POIData/tl_2018_28_place.shp',\n",
       " './POIData/tl_2018_29_place.shp',\n",
       " './POIData/tl_2018_30_place.shp',\n",
       " './POIData/tl_2018_31_place.shp',\n",
       " './POIData/tl_2018_32_place.shp',\n",
       " './POIData/tl_2018_33_place.shp',\n",
       " './POIData/tl_2018_34_place.shp',\n",
       " './POIData/tl_2018_35_place.shp',\n",
       " './POIData/tl_2018_36_place.shp',\n",
       " './POIData/tl_2018_37_place.shp',\n",
       " './POIData/tl_2018_38_place.shp',\n",
       " './POIData/tl_2018_39_place.shp',\n",
       " './POIData/tl_2018_40_place.shp',\n",
       " './POIData/tl_2018_41_place.shp',\n",
       " './POIData/tl_2018_42_place.shp',\n",
       " './POIData/tl_2018_44_place.shp',\n",
       " './POIData/tl_2018_45_place.shp',\n",
       " './POIData/tl_2018_46_place.shp',\n",
       " './POIData/tl_2018_47_place.shp',\n",
       " './POIData/tl_2018_48_place.shp',\n",
       " './POIData/tl_2018_49_place.shp',\n",
       " './POIData/tl_2018_50_place.shp',\n",
       " './POIData/tl_2018_51_place.shp',\n",
       " './POIData/tl_2018_53_place.shp',\n",
       " './POIData/tl_2018_54_place.shp',\n",
       " './POIData/tl_2018_55_place.shp',\n",
       " './POIData/tl_2018_56_place.shp']"
      ]
     },
     "execution_count": 19,
     "metadata": {},
     "output_type": "execute_result"
    }
   ],
   "source": [
    "file_list = \"place_files.txt\"\n",
    "files = open(file_list, 'r')\n",
    "r = [\"./POIData/\"+line.replace(\"\\n\",\"\") for line in files]\n",
    "r"
   ]
  },
  {
   "cell_type": "code",
   "execution_count": 4,
   "metadata": {},
   "outputs": [
    {
     "data": {
      "text/plain": [
       "(370, 8)"
      ]
     },
     "execution_count": 4,
     "metadata": {},
     "output_type": "execute_result"
    }
   ],
   "source": [
    "df2.shape"
   ]
  },
  {
   "cell_type": "code",
   "execution_count": 12,
   "metadata": {
    "collapsed": true
   },
   "outputs": [],
   "source": []
  },
  {
   "cell_type": "code",
   "execution_count": 14,
   "metadata": {},
   "outputs": [
    {
     "data": {
      "text/plain": [
       "['tl_2018_01_place.shp',\n",
       " 'tl_2018_02_place.shp',\n",
       " 'tl_2018_04_place.shp',\n",
       " 'tl_2018_05_place.shp',\n",
       " 'tl_2018_06_place.shp',\n",
       " 'tl_2018_08_place.shp',\n",
       " 'tl_2018_09_place.shp',\n",
       " 'tl_2018_10_place.shp',\n",
       " 'tl_2018_11_place.shp',\n",
       " 'tl_2018_12_place.shp',\n",
       " 'tl_2018_13_place.shp',\n",
       " 'tl_2018_15_place.shp',\n",
       " 'tl_2018_16_place.shp',\n",
       " 'tl_2018_17_place.shp',\n",
       " 'tl_2018_18_place.shp',\n",
       " 'tl_2018_19_place.shp',\n",
       " 'tl_2018_20_place.shp',\n",
       " 'tl_2018_21_place.shp',\n",
       " 'tl_2018_22_place.shp',\n",
       " 'tl_2018_23_place.shp',\n",
       " 'tl_2018_24_place.shp',\n",
       " 'tl_2018_25_place.shp',\n",
       " 'tl_2018_26_place.shp',\n",
       " 'tl_2018_27_place.shp',\n",
       " 'tl_2018_28_place.shp',\n",
       " 'tl_2018_29_place.shp',\n",
       " 'tl_2018_30_place.shp',\n",
       " 'tl_2018_31_place.shp',\n",
       " 'tl_2018_32_place.shp',\n",
       " 'tl_2018_33_place.shp',\n",
       " 'tl_2018_34_place.shp',\n",
       " 'tl_2018_35_place.shp',\n",
       " 'tl_2018_36_place.shp',\n",
       " 'tl_2018_37_place.shp',\n",
       " 'tl_2018_38_place.shp',\n",
       " 'tl_2018_39_place.shp',\n",
       " 'tl_2018_40_place.shp',\n",
       " 'tl_2018_41_place.shp',\n",
       " 'tl_2018_42_place.shp',\n",
       " 'tl_2018_44_place.shp',\n",
       " 'tl_2018_45_place.shp',\n",
       " 'tl_2018_46_place.shp',\n",
       " 'tl_2018_47_place.shp',\n",
       " 'tl_2018_48_place.shp',\n",
       " 'tl_2018_49_place.shp',\n",
       " 'tl_2018_50_place.shp',\n",
       " 'tl_2018_51_place.shp',\n",
       " 'tl_2018_53_place.shp',\n",
       " 'tl_2018_54_place.shp',\n",
       " 'tl_2018_55_place.shp',\n",
       " 'tl_2018_56_place.shp']"
      ]
     },
     "execution_count": 14,
     "metadata": {},
     "output_type": "execute_result"
    }
   ],
   "source": [
    "r"
   ]
  },
  {
   "cell_type": "code",
   "execution_count": 11,
   "metadata": {
    "collapsed": true
   },
   "outputs": [],
   "source": [
    "a = \"hello\"\n",
    "a.gsub"
   ]
  },
  {
   "cell_type": "code",
   "execution_count": 117,
   "metadata": {
    "scrolled": true
   },
   "outputs": [
    {
     "name": "stdout",
     "output_type": "stream",
     "text": [
      "0 : STATEFP\n",
      "1 : PLACEFP\n",
      "2 : PLACENS\n",
      "3 : GEOID\n",
      "4 : NAME\n",
      "5 : NAMELSAD\n",
      "6 : LSAD\n",
      "7 : CLASSFP\n",
      "8 : PCICBSA\n",
      "9 : PCINECTA\n",
      "10 : MTFCC\n",
      "11 : FUNCSTAT\n",
      "12 : ALAND\n",
      "13 : AWATER\n",
      "14 : INTPTLAT\n",
      "15 : INTPTLON\n"
     ]
    }
   ],
   "source": [
    "for n, ri in zip(r.fields[1:], range(len(r.fields)-1)):\n",
    "    print(ri, \":\" ,n[0])"
   ]
  },
  {
   "cell_type": "code",
   "execution_count": 24,
   "metadata": {},
   "outputs": [
    {
     "name": "stdout",
     "output_type": "stream",
     "text": [
      "STATEFP :  08\n",
      "PLACEFP :  08070\n",
      "PLACENS :  02411713\n",
      "GEOID :  0808070\n",
      "NAME :  Bow Mar\n",
      "NAMELSAD :  Bow Mar town\n",
      "LSAD :  43\n",
      "CLASSFP :  C1\n",
      "PCICBSA :  N\n",
      "PCINECTA :  N\n",
      "MTFCC :  G4110\n",
      "FUNCSTAT :  A\n",
      "ALAND :  1722547\n",
      "AWATER :  390292\n",
      "INTPTLAT :  +39.6265942\n",
      "INTPTLON :  -105.0509145\n"
     ]
    }
   ],
   "source": [
    "for n, ri in zip(r.fields[1:], rec.record):\n",
    "    print(n[0],\": \", ri)"
   ]
  }
 ],
 "metadata": {
  "kernelspec": {
   "display_name": "Python 3",
   "language": "python",
   "name": "python3"
  },
  "language_info": {
   "codemirror_mode": {
    "name": "ipython",
    "version": 3
   },
   "file_extension": ".py",
   "mimetype": "text/x-python",
   "name": "python",
   "nbconvert_exporter": "python",
   "pygments_lexer": "ipython3",
   "version": "3.7.1"
  }
 },
 "nbformat": 4,
 "nbformat_minor": 2
}
